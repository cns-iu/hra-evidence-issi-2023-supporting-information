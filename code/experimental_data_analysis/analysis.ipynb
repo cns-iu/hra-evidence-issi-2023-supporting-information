{
 "cells": [
  {
   "cell_type": "markdown",
   "metadata": {},
   "source": [
    "Creating the Provenance Data file"
   ]
  },
  {
   "cell_type": "code",
   "execution_count": 86,
   "metadata": {},
   "outputs": [],
   "source": [
    "data_sources = ['CxG','Azimuth','HuBMAP','NeMo','Soumya','GTEx','Blue_Lake']"
   ]
  },
  {
   "cell_type": "code",
   "execution_count": null,
   "metadata": {},
   "outputs": [],
   "source": [
    "import pandas as pd\n",
    "import os\n",
    "import re\n",
    "\n",
    "provdata = pd.DataFrame()\n",
    "\n",
    "for folder in os.listdir('csv'):\n",
    "    if folder != \".DS_Store\" and folder != \"Skin_GE_Yingnan\":\n",
    "        data = folder\n",
    "        data_source = None\n",
    "        for source in data_sources:\n",
    "            if re.search(source,folder,re.IGNORECASE):\n",
    "                data_source = source\n",
    "        provdata = provdata.append({'data': data, 'data source': data_source},ignore_index=True)\n",
    "\n",
    "provdata['Dataset ID'] = provdata.apply(lambda row: os.listdir(os.path.join('csv',row['data'])),axis=1)\n",
    "\n",
    "provdata = provdata.explode('Dataset ID')"
   ]
  },
  {
   "cell_type": "code",
   "execution_count": 88,
   "metadata": {},
   "outputs": [],
   "source": [
    "def getdatasetname(file):\n",
    "    data = pd.read_csv(file)\n",
    "    if 'dataset_name' in data.columns:\n",
    "        return data['dataset_name'][0]\n",
    "\n",
    "provdata['Dataset Name'] = provdata.apply(lambda row: getdatasetname(os.path.join('csv',row['data'],row['Dataset ID'])),axis=1)"
   ]
  },
  {
   "cell_type": "code",
   "execution_count": 89,
   "metadata": {},
   "outputs": [],
   "source": [
    "import requests\n",
    "\n",
    "def get_doi_data(dataset_name: str):\n",
    "\n",
    "    parameters = {'rows': 5, 'query.title': dataset_name}\n",
    "    endpoint_url = f'https://api.crossref.org/works'\n",
    "    response = requests.get(endpoint_url, params=parameters)\n",
    "    try:\n",
    "        response.raise_for_status()\n",
    "        response_json = response.json()\n",
    "    except Exception as e:\n",
    "        print('Error : ', e)\n",
    "        \n",
    "    return response_json['message']['items'][0]['URL']\n",
    "\n",
    "datalinks = pd.DataFrame()\n",
    "datalinks['Dataset Name'] = provdata['Dataset Name'].unique()\n",
    "\n",
    "datalinks['Link to Paper'] = datalinks.apply(lambda row: get_doi_data(row['Dataset Name']) if row['Dataset Name'] else None,axis=1)"
   ]
  },
  {
   "cell_type": "code",
   "execution_count": 90,
   "metadata": {},
   "outputs": [],
   "source": [
    "provdata = provdata.merge(datalinks,how='left')"
   ]
  },
  {
   "cell_type": "code",
   "execution_count": 91,
   "metadata": {},
   "outputs": [],
   "source": [
    "provdata.to_csv('Provenance Data.csv')"
   ]
  },
  {
   "cell_type": "markdown",
   "metadata": {},
   "source": [
    "Total number of datasets"
   ]
  },
  {
   "cell_type": "code",
   "execution_count": 92,
   "metadata": {},
   "outputs": [
    {
     "data": {
      "text/plain": [
       "380"
      ]
     },
     "execution_count": 92,
     "metadata": {},
     "output_type": "execute_result"
    }
   ],
   "source": [
    "provdata.shape[0]"
   ]
  },
  {
   "cell_type": "markdown",
   "metadata": {},
   "source": [
    "Number of CxG datasets"
   ]
  },
  {
   "cell_type": "code",
   "execution_count": 93,
   "metadata": {},
   "outputs": [
    {
     "data": {
      "text/plain": [
       "195"
      ]
     },
     "execution_count": 93,
     "metadata": {},
     "output_type": "execute_result"
    }
   ],
   "source": [
    "provdata.loc[provdata['data source'] == \"CxG\"].shape[0]"
   ]
  },
  {
   "cell_type": "markdown",
   "metadata": {},
   "source": [
    "Number of unique papers for CxG datasets"
   ]
  },
  {
   "cell_type": "code",
   "execution_count": 94,
   "metadata": {},
   "outputs": [
    {
     "data": {
      "text/plain": [
       "49"
      ]
     },
     "execution_count": 94,
     "metadata": {},
     "output_type": "execute_result"
    }
   ],
   "source": [
    "provdata.loc[provdata['data source'] == \"CxG\",\"Link to Paper\"].nunique()"
   ]
  },
  {
   "cell_type": "markdown",
   "metadata": {},
   "source": [
    "Number of GTEx dataset organs"
   ]
  },
  {
   "cell_type": "code",
   "execution_count": 97,
   "metadata": {},
   "outputs": [
    {
     "data": {
      "text/plain": [
       "8"
      ]
     },
     "execution_count": 97,
     "metadata": {},
     "output_type": "execute_result"
    }
   ],
   "source": [
    "provdata.loc[provdata['data source'] == \"GTEx\",\"data\"].nunique()"
   ]
  },
  {
   "cell_type": "markdown",
   "metadata": {},
   "source": [
    "Number of CxG dataset organs"
   ]
  },
  {
   "cell_type": "code",
   "execution_count": 99,
   "metadata": {},
   "outputs": [
    {
     "data": {
      "text/plain": [
       "49"
      ]
     },
     "execution_count": 99,
     "metadata": {},
     "output_type": "execute_result"
    }
   ],
   "source": [
    "provdata.loc[provdata['data source'] == \"CxG\",\"data\"].nunique()"
   ]
  },
  {
   "cell_type": "markdown",
   "metadata": {},
   "source": [
    "Number of Tabula Sapiens organs "
   ]
  },
  {
   "cell_type": "code",
   "execution_count": 100,
   "metadata": {},
   "outputs": [
    {
     "name": "stdout",
     "output_type": "stream",
     "text": [
      "33\n"
     ]
    }
   ],
   "source": [
    "import os\n",
    "\n",
    "count = 0\n",
    "for folder in os.listdir('csv'):\n",
    "    if folder != \".DS_Store\" and '53d208b0-2cfd-4366-9866-c3c6114081bc.csv' in os.listdir(os.path.join('csv',folder)):\n",
    "        count += 1\n",
    "print(count)"
   ]
  }
 ],
 "metadata": {
  "interpreter": {
   "hash": "aee8b7b246df8f9039afb4144a1f6fd8d2ca17a180786b69acc140d282b71a49"
  },
  "kernelspec": {
   "display_name": "Python 3.11.0 64-bit",
   "language": "python",
   "name": "python3"
  },
  "language_info": {
   "codemirror_mode": {
    "name": "ipython",
    "version": 3
   },
   "file_extension": ".py",
   "mimetype": "text/x-python",
   "name": "python",
   "nbconvert_exporter": "python",
   "pygments_lexer": "ipython3",
   "version": "3.11.0"
  },
  "orig_nbformat": 4
 },
 "nbformat": 4,
 "nbformat_minor": 2
}
